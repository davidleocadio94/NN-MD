{
 "cells": [
  {
   "cell_type": "code",
   "execution_count": null,
   "id": "1a65a47b",
   "metadata": {},
   "outputs": [],
   "source": [
    "import xarray as xr\n",
    "import numpy as np\n",
    "\n",
    "# load the trajectory dataset \"trajectory.nc\" from disk into the xarray.Dataset\n",
    "#dataset  = xr.load_dataset(\"/home/villarreal/Documents/STO_MD/merged_trajectories/trajectory_3.nc\")\n",
    "dataset=xr.load_dataset('nvt.1200/md_4/trajectory.nc')\n",
    "#dataset=xr.load_dataset('/home/villarreal/Documents/STO_MD/merged_trajectories/trajectory_3.nc')"
   ]
  },
  {
   "cell_type": "code",
   "execution_count": null,
   "id": "9d8b442a",
   "metadata": {},
   "outputs": [],
   "source": [
    "dataset"
   ]
  },
  {
   "cell_type": "code",
   "execution_count": null,
   "id": "ff336505",
   "metadata": {},
   "outputs": [],
   "source": [
    "print(\"Avg Temp\",np.average(dataset.temperature.values))"
   ]
  },
  {
   "cell_type": "code",
   "execution_count": null,
   "id": "13b0909b",
   "metadata": {},
   "outputs": [],
   "source": [
    "from ase.io import read\n",
    "import numpy as np\n",
    "\n",
    "# load atoms from xyz file. Here, we only parse the first 10 molecules\n",
    "\n",
    "#atoms = read('/home/villarreal/Documents/STO_MD/merged_trajectories/trajectory.db',index=':')\n",
    "atoms=read('nvt.300/tutorial_data/trajectory.db',index=':')\n",
    "\n",
    "\n",
    "\n",
    "\n",
    "# parse properties as list of dictionaries\n",
    "property_list = []\n",
    "E=[]\n",
    "F=[]\n",
    "R=[]\n",
    "z=[]\n",
    "for at in atoms:\n",
    "    # All properties need to be stored as numpy arrays.\n",
    "    # Note: The shape for scalars should be (1,), not ()\n",
    "    # Note: GPUs work best with float32 data\n",
    "    #energy = np.array([float(list(at.info.keys())[0])], dtype=np.float32)\n",
    "    E.append([at.get_potential_energy()])\n",
    "    F.append(at.get_forces())\n",
    "    R.append(at.get_positions())\n",
    "    z.append(at.numbers)\n",
    "    #property_list.append(\n",
    "    #    {'E': at.get_potential_energy(), 'F': at.get_forces(),'R':at.get_positions,'z':at.numbers}\n",
    "        \n",
    "    #)\n",
    "    #property_list.append({'forces': at.get_positions()}"
   ]
  },
  {
   "cell_type": "code",
   "execution_count": null,
   "id": "9bdad56a",
   "metadata": {},
   "outputs": [],
   "source": [
    "import numpy as np\n",
    "import matplotlib.pyplot as plt\n",
    "import seaborn as sns\n",
    "\n",
    "sns.set_style('darkgrid')\n",
    "sns.distplot(E)\n"
   ]
  },
  {
   "cell_type": "markdown",
   "id": "50e55d74",
   "metadata": {},
   "source": [
    "# Create Train and Test data"
   ]
  },
  {
   "cell_type": "code",
   "execution_count": 3,
   "id": "1498818f",
   "metadata": {},
   "outputs": [],
   "source": [
    "from ase.io import read\n",
    "import numpy as np\n",
    "import os\n",
    "###OCT 18 this directory for 1500\n",
    "#path_data='/home/villarreal/Documents/STO_MD/ModelsAndData/OCT18/nvt.1500.RS.OCT10.2021_WITHPBC'\n",
    "#path_dirs='/home/villarreal/Documents/STO_MD/ModelsAndData/OCT18/nvt.1500.RS.OCT10.2021_WITHPBC'\n",
    "\n",
    "###OCT18 this directory for 300\n",
    "path_data=\"/home/villarreal/Documents/STO_MD/ModelsAndData/OCT18/nvt.300.OCT18\"\n",
    "path_dirs=\"/home/villarreal/Documents/STO_MD/ModelsAndData/OCT18/nvt.300.OCT18\"\n",
    "\n",
    "\n",
    "atoms = read(path_data+'/trajectory.db',index=':')\n",
    "\n",
    "os.system('rm -rf ' + path_dirs+ '/randomized')\n",
    "os.system('rm -rf ' + path_dirs+ '/sequential')\n",
    "\n",
    "os.system('mkdir ' + path_dirs+ '/randomized')\n",
    "os.system('mkdir ' + path_dirs+ '/sequential')\n",
    "\n",
    "\n",
    "\n",
    "\n",
    "\n",
    "# parse properties as list of dictionaries\n",
    "property_list = []\n",
    "E=[]\n",
    "F=[]\n",
    "R=[]\n",
    "z=[]\n",
    "CELL=[]\n",
    "PBC=[]\n",
    "for at in atoms:\n",
    "    # All properties need to be stored as numpy arrays.\n",
    "    # Note: The shape for scalars should be (1,), not ()\n",
    "    # Note: GPUs work best with float32 data\n",
    "    #energy = np.array([float(list(at.info.keys())[0])], dtype=np.float32)\n",
    "    E.append([at.get_potential_energy()])\n",
    "    F.append(at.get_forces())\n",
    "    R.append(at.get_positions())\n",
    "    z.append(at.numbers)\n",
    "    CELL.append(at.get_cell())\n",
    "    PBC.append(at.get_pbc())\n",
    "    #property_list.append(\n",
    "    #    {'E': at.get_potential_energy(), 'F': at.get_forces(),'R':at.get_positions,'z':at.numbers}\n",
    "        \n",
    "    #)\n",
    "    #property_list.append({'forces': at.get_positions()}\n"
   ]
  },
  {
   "cell_type": "markdown",
   "id": "0f73ae5b",
   "metadata": {},
   "source": [
    "# Run this if you want to merge datasets"
   ]
  },
  {
   "cell_type": "code",
   "execution_count": null,
   "id": "3688efc7",
   "metadata": {},
   "outputs": [],
   "source": [
    "path_data='nve.3'\n",
    "atoms = read(path_data+'/trajectory.db',index=':')\n",
    "\n",
    "\n",
    "\n",
    "\n",
    "\n",
    "for at in atoms:\n",
    "    # All properties need to be stored as numpy arrays.\n",
    "    # Note: The shape for scalars should be (1,), not ()\n",
    "    # Note: GPUs work best with float32 data\n",
    "    #energy = np.array([float(list(at.info.keys())[0])], dtype=np.float32)\n",
    "    E.append([at.get_potential_energy()])\n",
    "    F.append(at.get_forces())\n",
    "    R.append(at.get_positions())\n",
    "    z.append(at.numbers)\n",
    "    #property_list.append(\n",
    "    #    {'E': at.get_potential_energy(), 'F': at.get_forces(),'R':at.get_positions,'z':at.numbers}\n",
    "        \n",
    "    #)\n",
    "    #property_list.append({'forces': at.get_positions()}"
   ]
  },
  {
   "cell_type": "markdown",
   "id": "f40184d6",
   "metadata": {},
   "source": [
    "# Randomized dataset"
   ]
  },
  {
   "cell_type": "code",
   "execution_count": 4,
   "id": "f7726d73",
   "metadata": {},
   "outputs": [
    {
     "data": {
      "text/plain": [
       "6108"
      ]
     },
     "execution_count": 4,
     "metadata": {},
     "output_type": "execute_result"
    }
   ],
   "source": [
    "#Randomized\n",
    "E=np.array(E)\n",
    "F=np.array(F)\n",
    "R=np.array(R)\n",
    "z=np.array(z)\n",
    "CELL=np.array(CELL)\n",
    "PBC=np.array(PBC)\n",
    "randomly_permuted_idx=np.random.permutation(np.arange(len(E)))\n",
    "size_test=20\n",
    "#randomly_permuted_idx=np.arange(len(atoms))\n",
    "idxsTrain=randomly_permuted_idx[:-size_test]\n",
    "idxsTrain=idxsTrain.astype(int)\n",
    "idxsTest=randomly_permuted_idx[-size_test:]\n",
    "idxsTest=idxsTest.astype(int)\n",
    "len(idxsTest)+len(idxsTrain)"
   ]
  },
  {
   "cell_type": "code",
   "execution_count": 5,
   "id": "736891fb",
   "metadata": {},
   "outputs": [
    {
     "name": "stdout",
     "output_type": "stream",
     "text": [
      "Train (6088,)\n",
      "Test (20,)\n"
     ]
    }
   ],
   "source": [
    "np.savez(path_dirs+'/randomized/trajectory',E=E[idxsTrain],F=F[idxsTrain],R=R[idxsTrain],z=z[0],CELL=\\\n",
    "        CELL[0],PBC=PBC[0])\n",
    "np.savez(path_dirs+'/randomized/trajectoryTest',E=E[idxsTest],F=F[idxsTest],R=R[idxsTest],z=z[0],CELL=\\\n",
    "        CELL[0],PBC=PBC[0])\n",
    "print(\"Train\",np.shape(idxsTrain))\n",
    "print(\"Test\",np.shape(idxsTest))"
   ]
  },
  {
   "cell_type": "markdown",
   "id": "72300d3a",
   "metadata": {},
   "source": [
    "# Sequential dataset"
   ]
  },
  {
   "cell_type": "code",
   "execution_count": null,
   "id": "c06590aa",
   "metadata": {},
   "outputs": [],
   "source": [
    "#Sequential datasets\n",
    "E=np.array(E)\n",
    "F=np.array(F)\n",
    "R=np.array(R)\n",
    "z=np.array(z)\n",
    "size_test=9000\n",
    "randomly_permuted_idx=np.arange(len(E))\n",
    "idxsTrain=randomly_permuted_idx[:-size_test]\n",
    "idxsTrain.astype(int)\n",
    "idxsTest=randomly_permuted_idx[-size_test:]\n",
    "print(len(idxsTest))\n",
    "print(len(idxsTrain))\n",
    "len(idxsTest)+len(idxsTrain)"
   ]
  },
  {
   "cell_type": "code",
   "execution_count": null,
   "id": "b9e410d7",
   "metadata": {},
   "outputs": [],
   "source": [
    "np.savez(path_dirs+'/sequential/trajectory',E=E[idxsTrain],F=F[idxsTrain],R=R[idxsTrain],z=z[0])\n",
    "np.savez(path_dirs+'/sequential/trajectoryTest',E=E[idxsTest],F=F[idxsTest],R=R[idxsTest],z=z[0])\n",
    "print(\"Train\",np.shape(idxsTrain))\n",
    "print(\"Test\",np.shape(idxsTest))"
   ]
  },
  {
   "cell_type": "markdown",
   "id": "70100736",
   "metadata": {},
   "source": [
    "# MH MonteCarlo dataset"
   ]
  },
  {
   "cell_type": "code",
   "execution_count": null,
   "id": "1ec75e9c",
   "metadata": {},
   "outputs": [],
   "source": [
    "def p(E,T):\n",
    "    kBT=1.38e-23*T\n",
    "    return np.exp(-E/kBT)\n",
    "\n",
    "\n",
    "\n",
    "E=np.array(E)\n",
    "F=np.array(F)\n",
    "R=np.array(R)\n",
    "z=np.array(z)\n",
    "\n",
    "idxs=[]\n",
    "\n",
    "for i in np.random.randint(low=0,high=range(len(E)),size=range(len(E))):\n",
    "    idx_current=0\n",
    "    Q=np.min(1,p(E[i])/p(E[idx_current]))\n",
    "    A=np.random.uniform(0,1)\n",
    "    if A<Q:\n",
    "        idx_current=i\n",
    "        idxs.append(idx_current)\n",
    "    else:\n",
    "        idxs.append(idx_current)\n",
    "print(idxs)"
   ]
  },
  {
   "cell_type": "code",
   "execution_count": null,
   "id": "a0fbdfd1",
   "metadata": {},
   "outputs": [],
   "source": [
    "np.savez(path_dirs+'/MHtrajectory',E=E[idxsTrain],F=F[idxsTrain],R=R[idxsTrain],z=z[0])\n",
    "np.savez(path_dirs+'/MHtrajectoryTest',E=E[idxsTest],F=F[idxsTest],R=R[idxsTest],z=z[0])\n",
    "print(\"Train\",np.shape(idxsTrain))\n",
    "print(\"Test\",np.shape(idxsTest))"
   ]
  },
  {
   "cell_type": "markdown",
   "id": "bd03de57",
   "metadata": {},
   "source": [
    "# Resample to uniform dist in E"
   ]
  },
  {
   "cell_type": "code",
   "execution_count": 10,
   "id": "689b126b",
   "metadata": {
    "scrolled": true
   },
   "outputs": [
    {
     "name": "stdout",
     "output_type": "stream",
     "text": [
      "Total Dataset size 6108\n",
      "Train (6088,)\n",
      "Test (20,)\n"
     ]
    },
    {
     "data": {
      "image/png": "[encoded data removed]",
      "text/plain": [
       "<Figure size 432x288 with 1 Axes>"
      ]
     },
     "metadata": {
      "needs_background": "light"
     },
     "output_type": "display_data"
    },
    {
     "data": {
      "image/png": "[encoded data removed]",
      "text/plain": [
       "<Figure size 432x288 with 1 Axes>"
      ]
     },
     "metadata": {
      "needs_background": "light"
     },
     "output_type": "display_data"
    }
   ],
   "source": [
    "import matplotlib.pyplot as plt\n",
    "\n",
    "def find_idxs(samples,E):\n",
    "    idxs=[]\n",
    "    for i in range(len(samples)):\n",
    "        idx=np.where(E.flatten()==samples[i])\n",
    "        idxs.append(idx)\n",
    "    idxs = np.concatenate(idxs).ravel().tolist()\n",
    "    return idxs\n",
    "\n",
    "E=np.array(E)\n",
    "F=np.array(F)\n",
    "R=np.array(R)\n",
    "z=np.array(z)\n",
    "CELL=np.array(CELL)\n",
    "PBC=np.array(PBC)\n",
    "\n",
    "\n",
    "plt.figure()\n",
    "plt.hist(E.flatten())\n",
    "plt.xlabel('Energies')\n",
    "plt.ylabel('Counts')\n",
    "plt.title('MD data')\n",
    "\n",
    "\n",
    "x = np.sort(E.flatten())\n",
    "f_x = np.gradient(x)*1/(np.max(x)-np.min(x))\n",
    "sample_probs = f_x/np.sum(f_x)\n",
    "samples = np.random.choice(x, p=sample_probs, size=1*len(E))\n",
    "\n",
    "idxs=find_idxs(samples,E.flatten())\n",
    "#print(E[idxs])\n",
    "\n",
    "E=E[idxs]\n",
    "F=F[idxs]\n",
    "R=R[idxs]\n",
    "z=z[idxs]\n",
    "CELL=CELL[idxs]\n",
    "\n",
    "plt.figure()\n",
    "plt.hist(E)\n",
    "plt.xlabel('Energies')\n",
    "plt.ylabel('Counts')\n",
    "plt.title('Resampled MD data')\n",
    "\n",
    "\n",
    "randomly_permuted_idx=np.random.permutation(np.arange(len(E)))\n",
    "size_test=20\n",
    "#randomly_permuted_idx=np.arange(len(atoms))\n",
    "idxsTrain=randomly_permuted_idx[:-size_test]\n",
    "idxsTrain=idxsTrain.astype(int)\n",
    "idxsTest=randomly_permuted_idx[-size_test:]\n",
    "idxsTest=idxsTest.astype(int)\n",
    "\n",
    "print(\"Total Dataset size\",len(idxsTest)+len(idxsTrain))\n",
    "np.savez(path_dirs+'/RStrajectory',E=E[idxsTrain],F=F[idxsTrain],R=R[idxsTrain],z=z[0],CELL=\\\n",
    "        CELL[0],PBC=PBC[0])\n",
    "np.savez(path_dirs+'/RStrajectoryTest',E=E[idxsTest],F=F[idxsTest],R=R[idxsTest],z=z[0],CELL=\\\n",
    "        CELL[0],PBC=PBC[0])\n",
    "print(\"Train\",np.shape(idxsTrain))\n",
    "print(\"Test\",np.shape(idxsTest))"
   ]
  },
  {
   "cell_type": "code",
   "execution_count": 14,
   "id": "ca23e0cc",
   "metadata": {},
   "outputs": [
    {
     "data": {
      "text/plain": [
       "array([ True,  True,  True])"
      ]
     },
     "execution_count": 14,
     "metadata": {},
     "output_type": "execute_result"
    }
   ],
   "source": [
    "data=np.load(path_dirs+'/RStrajectory.npz')\n",
    "data['PBC']"
   ]
  },
  {
   "cell_type": "code",
   "execution_count": null,
   "id": "7694e1fe",
   "metadata": {},
   "outputs": [],
   "source": [
    "np.savez(path_dirs+'/RStrajectory',E=E[idxsTrain],F=F[idxsTrain],R=R[idxsTrain],z=z[0])\n",
    "np.savez(path_dirs+'/RStrajectoryTest',E=E[idxsTest],F=F[idxsTest],R=R[idxsTest],z=z[0])\n",
    "print(\"Train\",np.shape(idxsTrain))\n",
    "print(\"Test\",np.shape(idxsTest))"
   ]
  },
  {
   "cell_type": "code",
   "execution_count": null,
   "id": "ddcb994e",
   "metadata": {},
   "outputs": [],
   "source": [
    "import numpy as np\n",
    "A=np.array([1, 29, 30, 31, 35])\n",
    "gradA=np.gradient(A)\n",
    "print(A)\n",
    "print(gradA)"
   ]
  },
  {
   "cell_type": "code",
   "execution_count": null,
   "id": "fa0ff548",
   "metadata": {},
   "outputs": [],
   "source": [
    "np.savez(path_dirs+'/MHtrajectory',E=E[idxsTrain],F=F[idxsTrain],R=R[idxsTrain],z=z[0])\n",
    "np.savez(path_dirs+'/MHtrajectoryTest',E=E[idxsTest],F=F[idxsTest],R=R[idxsTest],z=z[0])\n",
    "print(\"Train\",np.shape(idxsTrain))\n",
    "print(\"Test\",np.shape(idxsTest))"
   ]
  }
 ],
 "metadata": {
  "interpreter": {
   "hash": "916dbcbb3f70747c44a77c7bcd40155683ae19c65e1c03b4aa3499c5328201f1"
  },
  "kernelspec": {
   "display_name": "Python 3.8.10 64-bit",
   "name": "python3"
  },
  "language_info": {
   "codemirror_mode": {
    "name": "ipython",
    "version": 3
   },
   "file_extension": ".py",
   "mimetype": "text/x-python",
   "name": "python",
   "nbconvert_exporter": "python",
   "pygments_lexer": "ipython3",
   "version": "3.8.10"
  }
 },
 "nbformat": 4,
 "nbformat_minor": 5
}
